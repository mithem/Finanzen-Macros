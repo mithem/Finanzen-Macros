{
 "cells": [
  {
   "cell_type": "code",
   "execution_count": null,
   "metadata": {},
   "outputs": [],
   "source": [
    "from typing import Tuple, List\n",
    "\n",
    "import pandas as pd\n",
    "import plotly.express as px\n",
    "import plotly.graph_objs as go"
   ]
  },
  {
   "cell_type": "code",
   "execution_count": null,
   "metadata": {},
   "outputs": [],
   "source": [
    "FIXED_SCENARIO_RETURN = .07"
   ]
  },
  {
   "cell_type": "markdown",
   "metadata": {},
   "source": [
    "# Load data"
   ]
  },
  {
   "cell_type": "code",
   "execution_count": null,
   "metadata": {},
   "outputs": [],
   "source": [
    "def get_avg_return_scenario(data: pd.DataFrame, avg_return: float, data_key: str = \"Depotwert\") -> \\\n",
    "        List[float]:\n",
    "    days_list = [(data[\"Datum\"].iloc[i] - data[\"Datum\"].iloc[0]).days for i in\n",
    "                 range(len(data[\"Datum\"]))]\n",
    "    return [data[data_key].iloc[0] * (1 + avg_return) ** (\n",
    "        (i / 365)) for i in days_list]"
   ]
  },
  {
   "cell_type": "code",
   "execution_count": null,
   "metadata": {},
   "outputs": [],
   "source": [
    "def load_data(filename: str) -> Tuple[pd.DataFrame, float]:\n",
    "    \"\"\"Load data from csv file and return it as a pandas dataframe\"\"\"\n",
    "    df = pd.read_csv(filename, sep=\";\", decimal=\",\", parse_dates=[\"Datum\"],\n",
    "                     date_format=\"%d.%m.%Y\")\n",
    "    avg_return = (df[\"Depotwert\"].iloc[-1] / df[\"Depotwert\"].iloc[0]) ** (\n",
    "            365 / (df[\"Datum\"].iloc[-1] - df[\"Datum\"].iloc[0]).days) - 1\n",
    "    df[\"Avg scenario\"] = get_avg_return_scenario(df, avg_return)\n",
    "    df[\"Fixed scenario\"] = get_avg_return_scenario(df, FIXED_SCENARIO_RETURN)\n",
    "    return df, avg_return"
   ]
  },
  {
   "cell_type": "code",
   "execution_count": null,
   "metadata": {},
   "outputs": [],
   "source": [
    "data, avg_return = load_data(\"~/Desktop/Depotwerte.csv\")\n",
    "data.head()"
   ]
  },
  {
   "cell_type": "markdown",
   "metadata": {},
   "source": [
    "# Fortune history line plot\n",
    "\n",
    "Using just a line diagram."
   ]
  },
  {
   "cell_type": "code",
   "execution_count": null,
   "metadata": {},
   "outputs": [],
   "source": [
    "fig = go.Figure()\n",
    "delta_depot_value = data[\"Depotwert\"].diff()\n",
    "fig.add_trace(go.Scatter(x=data[\"Datum\"], y=data[\"Depotwert\"], name=\"Depotwert\"))\n",
    "fig.add_trace(go.Scatter(x=data[\"Datum\"], y=delta_depot_value, name=\"Depotschwankung\"))\n",
    "fig.add_trace(\n",
    "    go.Scatter(x=data[\"Datum\"], y=data[\"Avg scenario\"],\n",
    "               name=f\"Avg Scenario ({round(avg_return * 100, 2)}%)\"))\n",
    "fig.add_trace(go.Scatter(x=data[\"Datum\"], y=data[\"Fixed scenario\"],\n",
    "                         name=f\"Fixed Scenario ({round(FIXED_SCENARIO_RETURN * 100, 2)}%)\"))\n",
    "fig.add_trace(go.Scatter(x=data[\"Datum\"], y=data[\"Net Worth\"], name=\"Net Worth\"))\n",
    "fig.add_trace(go.Scatter(x=data[\"Datum\"], y=data[\"Davon nicht Depot\"], name=\"Davon nicht Depot\"))\n",
    "pass"
   ]
  },
  {
   "cell_type": "code",
   "execution_count": null,
   "metadata": {},
   "outputs": [],
   "source": [
    "fig.show()"
   ]
  },
  {
   "cell_type": "markdown",
   "metadata": {},
   "source": [
    "# Fortune proposition history\n",
    "\n",
    "Using a stacked area chart."
   ]
  },
  {
   "cell_type": "code",
   "execution_count": null,
   "metadata": {},
   "outputs": [],
   "source": [
    "fig = px.area(data, x=\"Datum\", y=[\"Depotwert\", \"Davon nicht Depot\"], title=\"Depotwert\")\n",
    "fig.add_trace(go.Scatter(x=data[\"Datum\"], y=data[\"Net Worth\"], name=\"Net Worth\",\n",
    "                         line=go.scatter.Line(color=\"limegreen\", dash=\"dash\")))\n",
    "fig.show()"
   ]
  },
  {
   "cell_type": "markdown",
   "metadata": {},
   "source": [
    "# Current fortune proposition (pie)"
   ]
  },
  {
   "cell_type": "code",
   "execution_count": null,
   "metadata": {},
   "outputs": [],
   "source": [
    "labels = [\"Depotwert\", \"Davon nicht Depot\"]\n",
    "values = [data[\"Depotwert\"].iloc[-1], data[\"Davon nicht Depot\"].iloc[-1]]\n",
    "fig = go.Figure(data=[go.Pie(labels=labels, values=values)])\n",
    "fig.show()"
   ]
  },
  {
   "cell_type": "markdown",
   "metadata": {},
   "source": [
    "# Depot value fluctuation histogram"
   ]
  },
  {
   "cell_type": "code",
   "execution_count": null,
   "metadata": {},
   "outputs": [],
   "source": [
    "delta_depot_value = delta_depot_value[1:]\n",
    "stddev = delta_depot_value.std()\n",
    "median = delta_depot_value.median()\n",
    "max_count = delta_depot_value.value_counts().max()"
   ]
  },
  {
   "cell_type": "code",
   "execution_count": null,
   "metadata": {},
   "outputs": [],
   "source": [
    "def calculate_share_of_values_being_within_stddev(k) -> float:\n",
    "    return len(\n",
    "        [i for i in delta_depot_value if median - k * stddev <= i <= median + k * stddev]) / len(\n",
    "        delta_depot_value)"
   ]
  },
  {
   "cell_type": "code",
   "execution_count": null,
   "metadata": {},
   "outputs": [],
   "source": [
    "depot_value_fluctuations = sorted(delta_depot_value)\n",
    "fig = px.histogram(depot_value_fluctuations, marginal=\"box\")\n",
    "colors = [\"red\", \"blue\", \"green\", \"orange\", \"purple\"]\n",
    "fig.add_vline(x=median, line_width=3, line_dash=\"dash\", line_color=colors[0])\n",
    "for k in range(1, 3):\n",
    "    fig.add_vline(x=median + k * stddev, line_width=3, line_dash=\"dash\", line_color=colors[k])\n",
    "    fig.add_annotation(x=median + k * stddev,\n",
    "                       text=f\"{round(calculate_share_of_values_being_within_stddev(k) * 100, 2)}%\",\n",
    "                       showarrow=False)\n",
    "    fig.add_vline(x=median - k * stddev, line_width=3, line_dash=\"dash\", line_color=colors[k])\n",
    "    fig.add_annotation(x=median - k * stddev,\n",
    "                       text=f\"{round(calculate_share_of_values_being_within_stddev(k) * 100, 2)}%\",\n",
    "                       showarrow=False)\n",
    "fig.show()"
   ]
  },
  {
   "cell_type": "markdown",
   "metadata": {},
   "source": [
    "# Net worth bubble chart"
   ]
  },
  {
   "cell_type": "code",
   "execution_count": null,
   "metadata": {},
   "outputs": [],
   "source": [
    "sizes = data[\"Depotwert\"]\n",
    "sizes_normalized = (sizes - sizes.min()) / (sizes.max() - sizes.min())\n",
    "bubble_chart = go.Scatter(\n",
    "    x=data[\"Datum\"],\n",
    "    y=data[\"Net Worth\"],\n",
    "    mode='markers',\n",
    "    marker=dict(\n",
    "        size=sizes_normalized,\n",
    "        sizemode='diameter',\n",
    "        sizeref=sizes_normalized.max() / 30,\n",
    "        sizemin=3,\n",
    "        color=data[\"Depotwert\"],\n",
    "        colorscale='Viridis',\n",
    "        showscale=True\n",
    "    ),\n",
    ")\n",
    "fig = go.Figure(data=[bubble_chart])\n",
    "fig.update_layout(\n",
    "    title='Net Worth',\n",
    "    xaxis_title='Datum',\n",
    "    yaxis_title='Net Worth',\n",
    ")\n",
    "fig.show()"
   ]
  },
  {
   "cell_type": "code",
   "execution_count": null,
   "metadata": {},
   "outputs": [],
   "source": []
  }
 ],
 "metadata": {
  "kernelspec": {
   "display_name": "Python 3 (ipykernel)",
   "language": "python",
   "name": "python3"
  },
  "language_info": {
   "codemirror_mode": {
    "name": "ipython",
    "version": 3
   },
   "file_extension": ".py",
   "mimetype": "text/x-python",
   "name": "python",
   "nbconvert_exporter": "python",
   "pygments_lexer": "ipython3",
   "version": "3.11.3"
  }
 },
 "nbformat": 4,
 "nbformat_minor": 1
}
