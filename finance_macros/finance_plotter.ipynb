{
 "cells": [
  {
   "cell_type": "code",
   "execution_count": null,
   "metadata": {},
   "outputs": [],
   "source": [
    "!pip install yahoofinancials\n",
    "%pip install yahoofinancials"
   ]
  },
  {
   "cell_type": "code",
   "execution_count": null,
   "metadata": {},
   "outputs": [],
   "source": [
    "import datetime\n",
    "from typing import Tuple, List, Optional\n",
    "\n",
    "import numpy as np\n",
    "import pandas as pd\n",
    "import plotly.express as px\n",
    "import plotly.graph_objs as go\n",
    "from yahoofinancials import YahooFinancials"
   ]
  },
  {
   "cell_type": "code",
   "execution_count": null,
   "metadata": {},
   "outputs": [],
   "source": [
    "FIXED_SCENARIO_RETURN = .07"
   ]
  },
  {
   "cell_type": "markdown",
   "metadata": {},
   "source": [
    "# Load data"
   ]
  },
  {
   "cell_type": "code",
   "execution_count": null,
   "metadata": {},
   "outputs": [],
   "source": [
    "DATE_FORMAT = \"%d.%m.%y\"\n",
    "DATE_COLUMN = \"Datum\""
   ]
  },
  {
   "cell_type": "code",
   "execution_count": null,
   "metadata": {},
   "outputs": [],
   "source": [
    "def get_avg_return_scenario(data: pd.DataFrame, avg_return: float, data_key: str = \"Depotwert\") -> \\\n",
    "        List[float]:\n",
    "    days_list = [(data[DATE_COLUMN].iloc[i] - data[DATE_COLUMN].iloc[0]).days for i in\n",
    "                 range(len(data[DATE_COLUMN]))]\n",
    "    return [data[data_key].iloc[0] * (1 + avg_return) ** (\n",
    "        (i / 365)) for i in days_list]"
   ]
  },
  {
   "cell_type": "code",
   "execution_count": null,
   "metadata": {},
   "outputs": [],
   "source": [
    "def load_net_worth_history(filename: str) -> Tuple[pd.DataFrame, float]:\n",
    "    \"\"\"Load data from csv file and return it as a pandas dataframe\"\"\"\n",
    "    df = pd.read_csv(filename, sep=\";\", decimal=\".\", parse_dates=[DATE_COLUMN],\n",
    "                     date_format=DATE_FORMAT)\n",
    "    avg_return = (df[\"Depotwert\"].iloc[-1] / df[\"Depotwert\"].iloc[0]) ** (\n",
    "            365 / (df[DATE_COLUMN].iloc[-1] - df[DATE_COLUMN].iloc[0]).days) - 1\n",
    "    df[\"Avg scenario\"] = get_avg_return_scenario(df, avg_return)\n",
    "    df[\"Fixed scenario\"] = get_avg_return_scenario(df, FIXED_SCENARIO_RETURN)\n",
    "    return df, avg_return"
   ]
  },
  {
   "cell_type": "code",
   "execution_count": null,
   "metadata": {},
   "outputs": [],
   "source": [
    "net_worth_history, avg_return = load_net_worth_history(\"~/Desktop/net_worth_history.csv\")\n",
    "net_worth_history.head()"
   ]
  },
  {
   "cell_type": "code",
   "execution_count": null,
   "metadata": {},
   "outputs": [],
   "source": [
    "def load_depot_proposition_history(filename: str) -> pd.DataFrame:\n",
    "    \"\"\"Load data from csv file and return it as a pandas dataframe\"\"\"\n",
    "    df = pd.read_csv(filename, sep=\";\", decimal=\".\", parse_dates=[DATE_COLUMN],\n",
    "                     date_format=DATE_FORMAT)\n",
    "    return df"
   ]
  },
  {
   "cell_type": "code",
   "execution_count": null,
   "metadata": {},
   "outputs": [],
   "source": [
    "def get_stock_quotes(depot_proposition_history: pd.DataFrame) -> pd.DataFrame:\n",
    "    \"\"\"Load stock quotes for the stocks in the depot proposition from yahoo.\"\"\"\n",
    "    positions = list(depot_proposition_history.keys()[1:])\n",
    "    fin = YahooFinancials(positions, country=\"DE\")\n",
    "    sheet = fin.get_historical_price_data(\"2021-01-01\", datetime.date.today().isoformat(), \"daily\")\n",
    "    data = {}\n",
    "    max_count = max([len(sheet[position][\"prices\"]) for position in positions])\n",
    "    for position in positions:\n",
    "        count = len(sheet[position][\"prices\"])\n",
    "        data[position] = np.pad([sheet[position][\"prices\"][i][\"close\"] for i in\n",
    "                                 range(len(sheet[position][\"prices\"]))], (max_count - count, 0),\n",
    "                                constant_values=sheet[position][\"prices\"][0][\"close\"])\n",
    "    df = pd.DataFrame()\n",
    "    position = list(sheet.keys())[0]\n",
    "    df[DATE_COLUMN] = [\n",
    "        pd.Timestamp.fromisoformat(sheet[position][\"prices\"][i][\"formatted_date\"]) for i\n",
    "        in\n",
    "        range(len(sheet[position][\"prices\"]))]\n",
    "    for position in positions:\n",
    "        df[position] = data[position]\n",
    "    return df\n"
   ]
  },
  {
   "cell_type": "code",
   "execution_count": null,
   "metadata": {},
   "outputs": [],
   "source": [
    "def interpolate_data_nonlinear(data: pd.DataFrame, start_date: Optional[pd.Timestamp] = None,\n",
    "                               end_date: Optional[pd.Timestamp] = None) -> pd.DataFrame:\n",
    "    \"\"\"Interpolate data using a nonlinear interpolation method.\"\"\"\n",
    "    keys = data.keys()[1:]\n",
    "    last_values = {}\n",
    "    new_data = {DATE_COLUMN: []}\n",
    "    date = start_date if start_date else data[DATE_COLUMN].iloc[0]\n",
    "    end_date = end_date if end_date else data[DATE_COLUMN].iloc[-1]\n",
    "    for key in keys:\n",
    "        last_values[key] = data[key].iloc[0]\n",
    "        new_data[key] = []\n",
    "    while date < end_date:\n",
    "        date_idx = data[DATE_COLUMN][data[DATE_COLUMN] == date].index\n",
    "        if len(date_idx) > 0:\n",
    "            for key in keys:\n",
    "                value = data[key].iloc[date_idx[0]]\n",
    "                last_values[key] = value\n",
    "                new_data[key].append(value)\n",
    "        else:\n",
    "            for key in keys:\n",
    "                new_data[key].append(last_values[key])\n",
    "        new_data[DATE_COLUMN].append(date)\n",
    "        date += datetime.timedelta(days=1)\n",
    "    return pd.DataFrame(new_data)"
   ]
  },
  {
   "cell_type": "code",
   "execution_count": null,
   "metadata": {},
   "outputs": [],
   "source": [
    "def get_depot_history() -> Tuple[pd.DataFrame, pd.DataFrame, pd.DataFrame]:\n",
    "    proposition = load_depot_proposition_history(\"~/Desktop/depot_proposition.csv\")\n",
    "    quotes = get_stock_quotes(proposition)\n",
    "    start_date = proposition[DATE_COLUMN].iloc[0]\n",
    "    end_date = proposition[DATE_COLUMN].iloc[-1]\n",
    "    proposition_history = interpolate_data_nonlinear(proposition)\n",
    "    quotes_history = interpolate_data_nonlinear(quotes, start_date, end_date)\n",
    "    values_history = pd.DataFrame()\n",
    "    values_history[DATE_COLUMN] = proposition_history[DATE_COLUMN]\n",
    "    for position in proposition.keys()[1:]:\n",
    "        values_history[position] = proposition_history[position] * quotes_history[position]\n",
    "    return proposition_history, quotes_history, values_history"
   ]
  },
  {
   "cell_type": "code",
   "execution_count": null,
   "metadata": {},
   "outputs": [],
   "source": [
    "proposition_history, quote_history, value_history = get_depot_history()"
   ]
  },
  {
   "cell_type": "markdown",
   "metadata": {},
   "source": [
    "# Fortune history line plot\n",
    "\n",
    "Using just a line diagram."
   ]
  },
  {
   "cell_type": "code",
   "execution_count": null,
   "metadata": {},
   "outputs": [],
   "source": [
    "fig = go.Figure()\n",
    "delta_depot_value = net_worth_history[\"Depotwert\"].diff()\n",
    "fig.add_trace(\n",
    "    go.Scatter(x=net_worth_history[DATE_COLUMN], y=net_worth_history[\"Depotwert\"],\n",
    "               name=\"Depotwert\"))\n",
    "fig.add_trace(\n",
    "    go.Scatter(x=net_worth_history[DATE_COLUMN], y=delta_depot_value, name=\"Depotschwankung\"))\n",
    "fig.add_trace(\n",
    "    go.Scatter(x=net_worth_history[DATE_COLUMN], y=net_worth_history[\"Avg scenario\"],\n",
    "               name=f\"Avg Scenario ({round(avg_return * 100, 2)}%)\"))\n",
    "fig.add_trace(go.Scatter(x=net_worth_history[DATE_COLUMN], y=net_worth_history[\"Fixed scenario\"],\n",
    "                         name=f\"Fixed Scenario ({round(FIXED_SCENARIO_RETURN * 100, 2)}%)\"))\n",
    "fig.add_trace(\n",
    "    go.Scatter(x=net_worth_history[DATE_COLUMN], y=net_worth_history[\"Net Worth\"],\n",
    "               name=\"Net Worth\"))\n",
    "fig.add_trace(go.Scatter(x=net_worth_history[DATE_COLUMN], y=net_worth_history[\"Davon nicht Depot\"],\n",
    "                         name=\"Davon nicht Depot\"))\n",
    "pass"
   ]
  },
  {
   "cell_type": "code",
   "execution_count": null,
   "metadata": {},
   "outputs": [],
   "source": [
    "fig.show()"
   ]
  },
  {
   "cell_type": "markdown",
   "metadata": {},
   "source": [
    "# Fortune proposition history\n",
    "\n",
    "Using a stacked area chart."
   ]
  },
  {
   "cell_type": "code",
   "execution_count": null,
   "metadata": {},
   "outputs": [],
   "source": [
    "fig = px.area(net_worth_history, x=DATE_COLUMN, y=[\"Depotwert\", \"Davon nicht Depot\"],\n",
    "              title=\"Depotwert\")\n",
    "fig.add_trace(\n",
    "    go.Scatter(x=net_worth_history[DATE_COLUMN], y=net_worth_history[\"Net Worth\"], name=\"Net Worth\",\n",
    "               line=go.scatter.Line(color=\"limegreen\", dash=\"dash\")))\n",
    "fig.show()"
   ]
  },
  {
   "cell_type": "markdown",
   "metadata": {},
   "source": [
    "# Current fortune proposition (pie)"
   ]
  },
  {
   "cell_type": "code",
   "execution_count": null,
   "metadata": {},
   "outputs": [],
   "source": [
    "labels = [\"Depotwert\", \"Davon nicht Depot\"]\n",
    "display_values = [net_worth_history[\"Depotwert\"].iloc[-1],\n",
    "                  net_worth_history[\"Davon nicht Depot\"].iloc[-1]]\n",
    "fig = go.Figure(data=[go.Pie(labels=labels, values=display_values)])\n",
    "fig.show()"
   ]
  },
  {
   "cell_type": "markdown",
   "metadata": {},
   "source": [
    "# Depot value fluctuation histogram"
   ]
  },
  {
   "cell_type": "code",
   "execution_count": null,
   "metadata": {},
   "outputs": [],
   "source": [
    "delta_depot_value = delta_depot_value[1:]\n",
    "stddev = delta_depot_value.std()\n",
    "median = delta_depot_value.median()\n",
    "max_count = delta_depot_value.value_counts().max()"
   ]
  },
  {
   "cell_type": "code",
   "execution_count": null,
   "metadata": {},
   "outputs": [],
   "source": [
    "def calculate_share_of_values_being_within_stddev(k) -> float:\n",
    "    return len(\n",
    "        [i for i in delta_depot_value if median - k * stddev <= i <= median + k * stddev]) / len(\n",
    "        delta_depot_value)"
   ]
  },
  {
   "cell_type": "code",
   "execution_count": null,
   "metadata": {},
   "outputs": [],
   "source": [
    "depot_value_fluctuations = sorted(delta_depot_value)\n",
    "fig = px.histogram(depot_value_fluctuations, marginal=\"box\", nbins=10)\n",
    "colors = [\"red\", \"blue\", \"green\", \"orange\", \"purple\"]\n",
    "fig.add_vline(x=median, line_width=3, line_dash=\"dash\", line_color=colors[0])\n",
    "for k in range(1, 3):\n",
    "    fig.add_vline(x=median + k * stddev, line_width=3, line_dash=\"dash\", line_color=colors[k])\n",
    "    fig.add_annotation(x=median + k * stddev,\n",
    "                       text=f\"{round(calculate_share_of_values_being_within_stddev(k) * 100, 2)}%\",\n",
    "                       showarrow=False)\n",
    "    fig.add_vline(x=median - k * stddev, line_width=3, line_dash=\"dash\", line_color=colors[k])\n",
    "    fig.add_annotation(x=median - k * stddev,\n",
    "                       text=f\"{round(calculate_share_of_values_being_within_stddev(k) * 100, 2)}%\",\n",
    "                       showarrow=False)"
   ]
  },
  {
   "cell_type": "code",
   "execution_count": null,
   "metadata": {},
   "outputs": [],
   "source": [
    "fig.show()"
   ]
  },
  {
   "cell_type": "markdown",
   "metadata": {},
   "source": [
    "# Net worth bubble chart"
   ]
  },
  {
   "cell_type": "code",
   "execution_count": null,
   "metadata": {},
   "outputs": [],
   "source": [
    "sizes = net_worth_history[\"Depotwert\"]\n",
    "sizes_normalized = (sizes - sizes.min()) / (sizes.max() - sizes.min())\n",
    "bubble_chart = go.Scatter(\n",
    "    x=net_worth_history[DATE_COLUMN],\n",
    "    y=net_worth_history[\"Net Worth\"],\n",
    "    mode='markers',\n",
    "    marker=dict(\n",
    "        size=sizes_normalized,\n",
    "        sizemode='diameter',\n",
    "        sizeref=sizes_normalized.max() / 30,\n",
    "        sizemin=3,\n",
    "        color=net_worth_history[\"Depotwert\"],\n",
    "        colorscale='Viridis',\n",
    "        showscale=True\n",
    "    ),\n",
    ")\n",
    "fig = go.Figure(data=[bubble_chart])\n",
    "fig.update_layout(\n",
    "    title='Net Worth',\n",
    "    xaxis_title='Datum',\n",
    "    yaxis_title='Net Worth',\n",
    ")\n",
    "fig.show()"
   ]
  },
  {
   "cell_type": "markdown",
   "metadata": {},
   "source": [
    "# Depot proposition"
   ]
  },
  {
   "cell_type": "code",
   "execution_count": null,
   "metadata": {},
   "outputs": [],
   "source": [
    "labels = proposition_history.keys()[1:]\n",
    "values = proposition_history.iloc[-1][1:]\n",
    "fig = go.Figure(data=[go.Pie(labels=labels, values=values)],\n",
    "                layout_title_text=\"Depot Proposition (shares)\")\n",
    "fig.show()"
   ]
  },
  {
   "cell_type": "code",
   "execution_count": null,
   "metadata": {},
   "outputs": [],
   "source": [
    "labels = value_history.keys()[1:]\n",
    "values = value_history.iloc[-1]\n",
    "fig = go.Figure(data=[go.Pie(labels=labels, values=values, textinfo=\"label+percent+value\")],\n",
    "                layout_title_text=\"Depot Proposition (value)\")\n",
    "fig.show()"
   ]
  },
  {
   "cell_type": "code",
   "execution_count": null,
   "metadata": {},
   "outputs": [],
   "source": [
    "fig = px.line(quote_history, x=DATE_COLUMN, y=labels, title=\"Quotes\")\n",
    "fig.show()"
   ]
  },
  {
   "cell_type": "code",
   "execution_count": null,
   "metadata": {},
   "outputs": [],
   "source": [
    "fig = px.line(proposition_history, x=DATE_COLUMN, y=labels, title=\"Stock Counts\")\n",
    "fig.show()"
   ]
  },
  {
   "cell_type": "code",
   "execution_count": null,
   "metadata": {},
   "outputs": [],
   "source": [
    "fig = px.line(value_history, x=DATE_COLUMN, y=labels, title=\"Stock Values\")\n",
    "fig.show()"
   ]
  },
  {
   "cell_type": "code",
   "execution_count": null,
   "metadata": {},
   "outputs": [],
   "source": [
    "fig = px.area(value_history, x=DATE_COLUMN, y=labels, title=\"Stock Values\")\n",
    "fig.show()"
   ]
  },
  {
   "cell_type": "code",
   "execution_count": null,
   "metadata": {},
   "outputs": [],
   "source": []
  }
 ],
 "metadata": {
  "kernelspec": {
   "display_name": "Python 3 (ipykernel)",
   "language": "python",
   "name": "python3"
  },
  "language_info": {
   "codemirror_mode": {
    "name": "ipython",
    "version": 3
   },
   "file_extension": ".py",
   "mimetype": "text/x-python",
   "name": "python",
   "nbconvert_exporter": "python",
   "pygments_lexer": "ipython3",
   "version": "3.11.3"
  }
 },
 "nbformat": 4,
 "nbformat_minor": 1
}
