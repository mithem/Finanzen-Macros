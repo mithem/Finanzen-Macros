{
 "cells": [
  {
   "cell_type": "code",
   "execution_count": null,
   "metadata": {},
   "outputs": [],
   "source": [
    "!pip install yahoofinancials\n",
    "%pip install yahoofinancials"
   ]
  },
  {
   "cell_type": "code",
   "execution_count": null,
   "metadata": {},
   "outputs": [],
   "source": [
    "from data_visualization import get_depot_history, get_net_worth_history\n",
    "from data_visualization import graphs"
   ]
  },
  {
   "cell_type": "markdown",
   "metadata": {},
   "source": [
    "# Load data"
   ]
  },
  {
   "cell_type": "code",
   "execution_count": null,
   "metadata": {},
   "outputs": [],
   "source": [
    "export_dir = \"~/Desktop\""
   ]
  },
  {
   "cell_type": "code",
   "execution_count": null,
   "metadata": {},
   "outputs": [],
   "source": [
    "net_worth_history, net_worth_mvg_avg, avg_return = get_net_worth_history(export_dir)\n",
    "net_worth_history.head()"
   ]
  },
  {
   "cell_type": "code",
   "execution_count": null,
   "metadata": {},
   "outputs": [],
   "source": [
    "proposition_history, quote_history, value_history = get_depot_history(export_dir)"
   ]
  },
  {
   "cell_type": "markdown",
   "metadata": {},
   "source": [
    "# Gauges"
   ]
  },
  {
   "cell_type": "code",
   "execution_count": null,
   "metadata": {},
   "outputs": [],
   "source": [
    "graphs.get_net_worth_gauge(net_worth_history).show()"
   ]
  },
  {
   "cell_type": "code",
   "execution_count": null,
   "metadata": {},
   "outputs": [],
   "source": [
    "import plotly.graph_objects as go\n",
    "\n",
    "current_value = 75\n",
    "\n",
    "# Reference value (e.g., the target or goal value)\n",
    "reference_value = 60\n",
    "\n",
    "# Calculate the delta (difference between current and reference)\n",
    "delta_value = current_value - reference_value\n",
    "\n",
    "# Create the gauge chart\n",
    "fig = go.Figure(go.Indicator(\n",
    "    mode=\"gauge+number+delta\",\n",
    "    value=current_value,\n",
    "    gauge=dict(\n",
    "        axis=dict(range=[None, 100], tickwidth=1, tickcolor=\"darkblue\"),\n",
    "        bar=dict(color=\"darkblue\"),\n",
    "        bgcolor=\"white\",\n",
    "        borderwidth=2,\n",
    "        bordercolor=\"gray\",\n",
    "        steps=[\n",
    "            dict(range=[0, 50], color=\"lightgray\"),\n",
    "            dict(range=[50, 100], color=\"gray\")\n",
    "        ],\n",
    "    ),\n",
    "    delta=dict(reference=reference_value, increasing=dict(color=\"green\"),\n",
    "               decreasing=dict(color=\"red\")),\n",
    "    title=\"Gauge with Reference Delta\",\n",
    "    domain={'x': [0, 1], 'y': [0, 1]}\n",
    "))\n",
    "\n",
    "# Update layout to improve readability\n",
    "fig.update_layout(paper_bgcolor=\"white\", font_size=16)\n",
    "\n",
    "# Show the chart\n",
    "fig.show()"
   ]
  },
  {
   "cell_type": "code",
   "execution_count": null,
   "metadata": {},
   "outputs": [],
   "source": [
    "# Create a table with net worth history\n",
    "fig = go.Figure(data=[go.Table(\n",
    "    header=dict(values=list(net_worth_history.columns),\n",
    "                fill_color='paleturquoise',\n",
    "                align='left'),\n",
    "    cells=dict(values=[net_worth_history[\"Datum\"], net_worth_history[\"Net Worth\"]],\n",
    "               fill_color='lavender',\n",
    "               align='left'))\n",
    "])\n",
    "fig.show()"
   ]
  },
  {
   "cell_type": "markdown",
   "metadata": {},
   "source": [
    "# Fortune history line plot\n",
    "\n",
    "Using just a line diagram."
   ]
  },
  {
   "cell_type": "code",
   "execution_count": null,
   "metadata": {},
   "outputs": [],
   "source": [
    "graphs.get_fortune_history_line_plot(net_worth_history, avg_return).show()"
   ]
  },
  {
   "cell_type": "markdown",
   "metadata": {},
   "source": [
    "# Fortune proposition history\n",
    "\n",
    "Using a stacked area chart."
   ]
  },
  {
   "cell_type": "code",
   "execution_count": null,
   "metadata": {},
   "outputs": [],
   "source": [
    "graphs.get_fortune_history_area_plot(net_worth_history).show()"
   ]
  },
  {
   "cell_type": "markdown",
   "metadata": {},
   "source": [
    "# Current fortune proposition (pie)"
   ]
  },
  {
   "cell_type": "code",
   "execution_count": null,
   "metadata": {},
   "outputs": [],
   "source": [
    "graphs.get_current_fortune_proposition_pie(net_worth_history).show()"
   ]
  },
  {
   "cell_type": "markdown",
   "metadata": {},
   "source": [
    "# Depot value fluctuation histogram"
   ]
  },
  {
   "cell_type": "code",
   "execution_count": null,
   "metadata": {},
   "outputs": [],
   "source": [
    "graphs.get_depot_value_fluctuation_histogram(net_worth_history).show()"
   ]
  },
  {
   "cell_type": "markdown",
   "metadata": {},
   "source": [
    "# Net worth bubble chart"
   ]
  },
  {
   "cell_type": "code",
   "execution_count": null,
   "metadata": {},
   "outputs": [],
   "source": [
    "graphs.get_net_worth_bubble_chart(net_worth_history).show()"
   ]
  },
  {
   "cell_type": "markdown",
   "metadata": {},
   "source": [
    "# Depot proposition"
   ]
  },
  {
   "cell_type": "code",
   "execution_count": null,
   "metadata": {},
   "outputs": [],
   "source": [
    "graphs.get_depot_proposition_by_shares_pie(proposition_history).show()"
   ]
  },
  {
   "cell_type": "code",
   "execution_count": null,
   "metadata": {},
   "outputs": [],
   "source": [
    "graphs.get_depot_proposition_by_value_pie(value_history).show()"
   ]
  },
  {
   "cell_type": "code",
   "execution_count": null,
   "metadata": {},
   "outputs": [],
   "source": [
    "graphs.get_quotes_history_line_plot(quote_history).show()"
   ]
  },
  {
   "cell_type": "code",
   "execution_count": null,
   "metadata": {},
   "outputs": [],
   "source": [
    "graphs.get_depot_proposition_history_line_plot(proposition_history).show()"
   ]
  },
  {
   "cell_type": "code",
   "execution_count": null,
   "metadata": {},
   "outputs": [],
   "source": [
    "graphs.get_depot_value_history_line_plot(value_history).show()"
   ]
  },
  {
   "cell_type": "code",
   "execution_count": null,
   "metadata": {},
   "outputs": [],
   "source": [
    "graphs.get_depot_value_history_area_plot(value_history).show()"
   ]
  },
  {
   "cell_type": "code",
   "execution_count": null,
   "metadata": {},
   "outputs": [],
   "source": []
  }
 ],
 "metadata": {
  "kernelspec": {
   "display_name": "Python 3 (ipykernel)",
   "language": "python",
   "name": "python3"
  },
  "language_info": {
   "codemirror_mode": {
    "name": "ipython",
    "version": 3
   },
   "file_extension": ".py",
   "mimetype": "text/x-python",
   "name": "python",
   "nbconvert_exporter": "python",
   "pygments_lexer": "ipython3",
   "version": "3.11.3"
  }
 },
 "nbformat": 4,
 "nbformat_minor": 1
}
