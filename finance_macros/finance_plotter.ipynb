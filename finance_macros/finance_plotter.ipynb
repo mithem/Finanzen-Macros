{
 "cells": [
  {
   "cell_type": "code",
   "execution_count": null,
   "metadata": {},
   "outputs": [],
   "source": [
    "from typing import Tuple, List\n",
    "\n",
    "import pandas as pd\n",
    "import plotly.graph_objs as go"
   ]
  },
  {
   "cell_type": "code",
   "execution_count": null,
   "metadata": {},
   "outputs": [],
   "source": [
    "FIXED_SCENARIO_RETURN = .07"
   ]
  },
  {
   "cell_type": "code",
   "execution_count": null,
   "metadata": {},
   "outputs": [],
   "source": [
    "def get_avg_return_scenario(avg_return: float, data_key: str = \"Depotwert\") -> \\\n",
    "        List[float]:\n",
    "    days_list = [(data[\"Datum\"].iloc[i] - data[\"Datum\"].iloc[0]).days for i in\n",
    "                 range(len(data[\"Datum\"]))]\n",
    "    return [data[data_key].iloc[0] * (1 + avg_return) ** (\n",
    "        (i / 365)) for i in days_list]"
   ]
  },
  {
   "cell_type": "code",
   "execution_count": null,
   "metadata": {},
   "outputs": [],
   "source": [
    "def load_data(filename: str) -> Tuple[pd.DataFrame, float]:\n",
    "    \"\"\"Load data from csv file and return it as a pandas dataframe\"\"\"\n",
    "    data = pd.read_csv(filename, sep=\";\", decimal=\",\", parse_dates=[\"Datum\"],\n",
    "                       date_format=\"%d.%m.%Y\")\n",
    "    avg_return = (data[\"Depotwert\"].iloc[-1] / data[\"Depotwert\"].iloc[0]) ** (\n",
    "            365 / (data[\"Datum\"].iloc[-1] - data[\"Datum\"].iloc[0]).days) - 1\n",
    "    data[\"Avg scenario\"] = get_avg_return_scenario(avg_return)\n",
    "    data[\"Fixed scenario\"] = get_avg_return_scenario(FIXED_SCENARIO_RETURN)\n",
    "    return data, avg_return"
   ]
  },
  {
   "cell_type": "code",
   "execution_count": null,
   "metadata": {},
   "outputs": [],
   "source": [
    "data, avg_return = load_data(\"~/Desktop/Depotwerte.csv\")"
   ]
  },
  {
   "cell_type": "code",
   "execution_count": null,
   "metadata": {},
   "outputs": [],
   "source": [
    "fig = go.Figure()\n",
    "fig.add_trace(go.Scatter(x=data[\"Datum\"], y=data[\"Depotwert\"], name=\"Depotwert\"))\n",
    "fig.add_trace(go.Scatter(x=data[\"Datum\"], y=data[\"Depotwert\"].diff(), name=\"Depotschwankung\"))\n",
    "fig.add_trace(\n",
    "    go.Scatter(x=data[\"Datum\"], y=data[\"Avg scenario\"],\n",
    "               name=f\"Avg Scenario ({round(avg_return * 100, 2)}%)\"))\n",
    "fig.add_trace(go.Scatter(x=data[\"Datum\"], y=data[\"Fixed scenario\"],\n",
    "                         name=f\"Fixed Scenario ({round(FIXED_SCENARIO_RETURN * 100, 2)}%)\"))\n",
    "fig.add_trace(go.Scatter(x=data[\"Datum\"], y=data[\"Net Worth\"], name=\"Net Worth\"))\n",
    "fig.add_trace(go.Scatter(x=data[\"Datum\"], y=data[\"Davon nicht Depot\"], name=\"Davon nicht Depot\"))\n",
    "pass"
   ]
  },
  {
   "cell_type": "code",
   "execution_count": null,
   "metadata": {},
   "outputs": [],
   "source": [
    "fig.show()"
   ]
  },
  {
   "cell_type": "code",
   "execution_count": null,
   "metadata": {},
   "outputs": [],
   "source": []
  },
  {
   "cell_type": "code",
   "execution_count": null,
   "metadata": {},
   "outputs": [],
   "source": []
  }
 ],
 "metadata": {
  "kernelspec": {
   "display_name": "Python 3 (ipykernel)",
   "language": "python",
   "name": "python3"
  },
  "language_info": {
   "codemirror_mode": {
    "name": "ipython",
    "version": 3
   },
   "file_extension": ".py",
   "mimetype": "text/x-python",
   "name": "python",
   "nbconvert_exporter": "python",
   "pygments_lexer": "ipython3",
   "version": "3.11.3"
  }
 },
 "nbformat": 4,
 "nbformat_minor": 1
}
